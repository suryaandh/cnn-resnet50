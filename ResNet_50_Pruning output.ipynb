{
  "nbformat": 4,
  "nbformat_minor": 0,
  "metadata": {
    "colab": {
      "provenance": [],
      "gpuType": "T4"
    },
    "kernelspec": {
      "name": "python3",
      "display_name": "Python 3"
    },
    "language_info": {
      "name": "python"
    },
    "accelerator": "GPU"
  },
  "cells": [
    {
      "cell_type": "code",
      "execution_count": 1,
      "metadata": {
        "id": "a4t54CkuF0gr"
      },
      "outputs": [],
      "source": [
        "from google.colab import drive\n",
        "import os\n"
      ]
    },
    {
      "cell_type": "code",
      "source": [
        "\n",
        "# Mount Google Drive\n",
        "drive.mount('/content/drive')\n",
        "\n",
        "# Path to the main folder (klasifikasi_endek_bali) in Drive\n",
        "main_folder = '/content/drive/MyDrive/data_endek/'\n",
        "\n",
        "# Path to the train and test folders\n",
        "train_folder = main_folder + 'train/'\n",
        "test_folder = main_folder + 'test/'"
      ],
      "metadata": {
        "id": "p18bspwsF8Le",
        "colab": {
          "base_uri": "https://localhost:8080/"
        },
        "outputId": "9f06223e-cca8-4c1d-b8c8-2a81baeeb9a7"
      },
      "execution_count": 2,
      "outputs": [
        {
          "output_type": "stream",
          "name": "stdout",
          "text": [
            "Drive already mounted at /content/drive; to attempt to forcibly remount, call drive.mount(\"/content/drive\", force_remount=True).\n"
          ]
        }
      ]
    },
    {
      "cell_type": "code",
      "source": [
        "pip install -q tensorflow-model-optimization"
      ],
      "metadata": {
        "id": "F_J1l5wsTXSy"
      },
      "execution_count": 3,
      "outputs": []
    },
    {
      "cell_type": "code",
      "source": [
        "import tensorflow as tf\n",
        "from tensorflow.keras.applications import ResNet50\n",
        "from tensorflow.keras.layers import Dense, GlobalAveragePooling2D\n",
        "from tensorflow.keras.models import Model\n",
        "from tensorflow.keras.optimizers import Adam\n",
        "from tensorflow.keras.preprocessing.image import ImageDataGenerator\n",
        "from tensorflow.keras.callbacks import EarlyStopping\n",
        "import tensorflow_model_optimization as tfmot\n",
        "import numpy as np\n",
        "\n",
        "\n",
        "# Load and preprocess your dataset\n",
        "train_datagen = ImageDataGenerator(rescale=1.0/255, validation_split=0.2)\n",
        "train_generator = train_datagen.flow_from_directory(\n",
        "    train_folder,\n",
        "    target_size=(224, 224),\n",
        "    batch_size=32,\n",
        "    class_mode='categorical',\n",
        "    subset='training'\n",
        ")\n",
        "val_generator = train_datagen.flow_from_directory(\n",
        "    test_folder,\n",
        "    target_size=(224, 224),\n",
        "    batch_size=32,\n",
        "    class_mode='categorical',\n",
        "    subset='validation'\n",
        ")\n",
        "\n",
        "# Create the base ResNet-50 model\n",
        "base_model = ResNet50(weights='imagenet', include_top=False, input_shape=(224, 224, 3))\n",
        "\n",
        "# Add custom classification head\n",
        "x = base_model.output\n",
        "x = GlobalAveragePooling2D()(x)\n",
        "x = Dense(512, activation='relu')(x)\n",
        "predictions = Dense(3, activation='softmax')(x)\n",
        "model = Model(inputs=base_model.input, outputs=predictions)\n",
        "\n",
        "# Compile the model\n",
        "model.compile(optimizer=Adam(learning_rate=0.001), loss='categorical_crossentropy', metrics=['accuracy'])\n",
        "\n",
        "# Prune the model\n",
        "end_step = np.ceil(len(train_generator) / 32).astype(np.int32) * 10\n",
        "pruning_params = {\n",
        "    'pruning_schedule': tfmot.sparsity.keras.PolynomialDecay(initial_sparsity=0.50, final_sparsity=0.90, begin_step=0, end_step=end_step)\n",
        "}\n",
        "pruned_model = tfmot.sparsity.keras.prune_low_magnitude(model, **pruning_params)\n",
        "\n"
      ],
      "metadata": {
        "id": "9tKryiYkF8JB",
        "colab": {
          "base_uri": "https://localhost:8080/"
        },
        "outputId": "816a0fa0-fd8a-47d1-faa0-f65ca01a1707"
      },
      "execution_count": 4,
      "outputs": [
        {
          "output_type": "stream",
          "name": "stdout",
          "text": [
            "Found 1850 images belonging to 3 classes.\n",
            "Found 461 images belonging to 3 classes.\n"
          ]
        }
      ]
    },
    {
      "cell_type": "code",
      "source": [
        "from tensorflow.keras.optimizers import Adam  # You can use a different optimizer if needed\n",
        "\n",
        "# Compile the pruned model\n",
        "pruned_model.compile(optimizer=Adam(learning_rate=0.001), loss='categorical_crossentropy', metrics=['accuracy'])\n"
      ],
      "metadata": {
        "id": "SSFe6ozGF8GR"
      },
      "execution_count": 5,
      "outputs": []
    },
    {
      "cell_type": "code",
      "source": [
        "\n",
        "# Now you can proceed with training\n",
        "pruned_model.fit(train_generator, validation_data=val_generator, epochs=100)\n"
      ],
      "metadata": {
        "colab": {
          "base_uri": "https://localhost:8080/"
        },
        "id": "6ABuVmTIUjep",
        "outputId": "1073452e-0f37-4599-dd2a-c6fd9b612a4e"
      },
      "execution_count": 7,
      "outputs": [
        {
          "output_type": "stream",
          "name": "stdout",
          "text": [
            "Epoch 1/100\n",
            "58/58 [==============================] - 67s 571ms/step - loss: 0.9096 - accuracy: 0.6968 - val_loss: 82.0263 - val_accuracy: 0.3275\n",
            "Epoch 2/100\n",
            "58/58 [==============================] - 26s 450ms/step - loss: 0.5569 - accuracy: 0.7400 - val_loss: 1.7678 - val_accuracy: 0.3275\n",
            "Epoch 3/100\n",
            "58/58 [==============================] - 26s 452ms/step - loss: 0.5250 - accuracy: 0.7643 - val_loss: 3.7722 - val_accuracy: 0.3275\n",
            "Epoch 4/100\n",
            "58/58 [==============================] - 26s 446ms/step - loss: 0.4547 - accuracy: 0.7935 - val_loss: 1.1273 - val_accuracy: 0.3406\n",
            "Epoch 5/100\n",
            "58/58 [==============================] - 26s 455ms/step - loss: 0.3888 - accuracy: 0.8346 - val_loss: 8.3551 - val_accuracy: 0.3275\n",
            "Epoch 6/100\n",
            "58/58 [==============================] - 26s 445ms/step - loss: 0.3444 - accuracy: 0.8546 - val_loss: 1.1219 - val_accuracy: 0.3731\n",
            "Epoch 7/100\n",
            "58/58 [==============================] - 27s 456ms/step - loss: 0.3870 - accuracy: 0.8443 - val_loss: 1.1863 - val_accuracy: 0.3037\n",
            "Epoch 8/100\n",
            "58/58 [==============================] - 29s 492ms/step - loss: 0.3347 - accuracy: 0.8595 - val_loss: 1.2349 - val_accuracy: 0.3297\n",
            "Epoch 9/100\n",
            "58/58 [==============================] - 26s 451ms/step - loss: 0.3363 - accuracy: 0.8622 - val_loss: 1.1580 - val_accuracy: 0.3557\n",
            "Epoch 10/100\n",
            "58/58 [==============================] - 26s 450ms/step - loss: 0.2509 - accuracy: 0.9032 - val_loss: 1.3484 - val_accuracy: 0.3492\n",
            "Epoch 11/100\n",
            "58/58 [==============================] - 29s 496ms/step - loss: 0.2439 - accuracy: 0.9032 - val_loss: 1.7027 - val_accuracy: 0.3796\n",
            "Epoch 12/100\n",
            "58/58 [==============================] - 28s 489ms/step - loss: 0.2139 - accuracy: 0.9178 - val_loss: 2.5279 - val_accuracy: 0.3471\n",
            "Epoch 13/100\n",
            "58/58 [==============================] - 27s 456ms/step - loss: 0.1383 - accuracy: 0.9481 - val_loss: 1.6107 - val_accuracy: 0.5011\n",
            "Epoch 14/100\n",
            "58/58 [==============================] - 26s 445ms/step - loss: 0.1115 - accuracy: 0.9557 - val_loss: 2.0733 - val_accuracy: 0.4729\n",
            "Epoch 15/100\n",
            "58/58 [==============================] - 26s 450ms/step - loss: 0.1794 - accuracy: 0.9303 - val_loss: 1.9265 - val_accuracy: 0.5401\n",
            "Epoch 16/100\n",
            "58/58 [==============================] - 28s 489ms/step - loss: 0.1628 - accuracy: 0.9411 - val_loss: 0.7788 - val_accuracy: 0.6920\n",
            "Epoch 17/100\n",
            "58/58 [==============================] - 27s 460ms/step - loss: 0.1005 - accuracy: 0.9670 - val_loss: 0.7216 - val_accuracy: 0.7375\n",
            "Epoch 18/100\n",
            "58/58 [==============================] - 29s 494ms/step - loss: 0.1451 - accuracy: 0.9486 - val_loss: 0.7615 - val_accuracy: 0.7397\n",
            "Epoch 19/100\n",
            "58/58 [==============================] - 26s 448ms/step - loss: 0.1321 - accuracy: 0.9508 - val_loss: 0.6001 - val_accuracy: 0.8200\n",
            "Epoch 20/100\n",
            "58/58 [==============================] - 29s 495ms/step - loss: 0.0509 - accuracy: 0.9827 - val_loss: 0.3782 - val_accuracy: 0.8785\n",
            "Epoch 21/100\n",
            "58/58 [==============================] - 29s 494ms/step - loss: 0.0555 - accuracy: 0.9789 - val_loss: 0.6788 - val_accuracy: 0.7852\n",
            "Epoch 22/100\n",
            "58/58 [==============================] - 29s 497ms/step - loss: 0.1326 - accuracy: 0.9535 - val_loss: 0.7886 - val_accuracy: 0.7570\n",
            "Epoch 23/100\n",
            "58/58 [==============================] - 26s 450ms/step - loss: 0.1149 - accuracy: 0.9595 - val_loss: 1.5939 - val_accuracy: 0.7289\n",
            "Epoch 24/100\n",
            "58/58 [==============================] - 28s 491ms/step - loss: 0.0837 - accuracy: 0.9724 - val_loss: 0.3975 - val_accuracy: 0.8590\n",
            "Epoch 25/100\n",
            "58/58 [==============================] - 26s 449ms/step - loss: 0.0784 - accuracy: 0.9714 - val_loss: 0.5227 - val_accuracy: 0.8200\n",
            "Epoch 26/100\n",
            "58/58 [==============================] - 26s 447ms/step - loss: 0.0440 - accuracy: 0.9843 - val_loss: 1.2147 - val_accuracy: 0.7592\n",
            "Epoch 27/100\n",
            "58/58 [==============================] - 26s 446ms/step - loss: 0.0805 - accuracy: 0.9735 - val_loss: 1.1380 - val_accuracy: 0.7007\n",
            "Epoch 28/100\n",
            "58/58 [==============================] - 26s 445ms/step - loss: 0.0704 - accuracy: 0.9735 - val_loss: 0.4461 - val_accuracy: 0.8829\n",
            "Epoch 29/100\n",
            "58/58 [==============================] - 27s 456ms/step - loss: 0.0380 - accuracy: 0.9865 - val_loss: 0.7586 - val_accuracy: 0.8438\n",
            "Epoch 30/100\n",
            "58/58 [==============================] - 29s 496ms/step - loss: 0.0796 - accuracy: 0.9741 - val_loss: 0.4573 - val_accuracy: 0.8633\n",
            "Epoch 31/100\n",
            "58/58 [==============================] - 26s 447ms/step - loss: 0.0485 - accuracy: 0.9816 - val_loss: 1.1053 - val_accuracy: 0.7918\n",
            "Epoch 32/100\n",
            "58/58 [==============================] - 28s 489ms/step - loss: 0.0385 - accuracy: 0.9903 - val_loss: 0.6562 - val_accuracy: 0.8807\n",
            "Epoch 33/100\n",
            "58/58 [==============================] - 26s 455ms/step - loss: 0.0273 - accuracy: 0.9897 - val_loss: 0.4755 - val_accuracy: 0.8633\n",
            "Epoch 34/100\n",
            "58/58 [==============================] - 29s 492ms/step - loss: 0.0442 - accuracy: 0.9854 - val_loss: 0.3923 - val_accuracy: 0.8937\n",
            "Epoch 35/100\n",
            "58/58 [==============================] - 26s 450ms/step - loss: 0.0335 - accuracy: 0.9903 - val_loss: 0.4067 - val_accuracy: 0.8850\n",
            "Epoch 36/100\n",
            "58/58 [==============================] - 26s 449ms/step - loss: 0.0620 - accuracy: 0.9805 - val_loss: 0.7779 - val_accuracy: 0.7852\n",
            "Epoch 37/100\n",
            "58/58 [==============================] - 26s 456ms/step - loss: 0.0659 - accuracy: 0.9789 - val_loss: 0.8254 - val_accuracy: 0.8178\n",
            "Epoch 38/100\n",
            "58/58 [==============================] - 26s 454ms/step - loss: 0.0352 - accuracy: 0.9908 - val_loss: 0.6802 - val_accuracy: 0.8503\n",
            "Epoch 39/100\n",
            "58/58 [==============================] - 26s 448ms/step - loss: 0.0117 - accuracy: 0.9968 - val_loss: 0.4161 - val_accuracy: 0.8980\n",
            "Epoch 40/100\n",
            "58/58 [==============================] - 29s 500ms/step - loss: 0.0372 - accuracy: 0.9892 - val_loss: 0.4811 - val_accuracy: 0.8829\n",
            "Epoch 41/100\n",
            "58/58 [==============================] - 26s 447ms/step - loss: 0.0520 - accuracy: 0.9816 - val_loss: 1.0805 - val_accuracy: 0.7115\n",
            "Epoch 42/100\n",
            "58/58 [==============================] - 26s 451ms/step - loss: 0.0398 - accuracy: 0.9886 - val_loss: 0.3598 - val_accuracy: 0.8980\n",
            "Epoch 43/100\n",
            "58/58 [==============================] - 26s 450ms/step - loss: 0.0347 - accuracy: 0.9908 - val_loss: 2.0417 - val_accuracy: 0.7028\n",
            "Epoch 44/100\n",
            "58/58 [==============================] - 27s 458ms/step - loss: 0.0401 - accuracy: 0.9870 - val_loss: 1.8091 - val_accuracy: 0.7397\n",
            "Epoch 45/100\n",
            "58/58 [==============================] - 26s 442ms/step - loss: 0.0448 - accuracy: 0.9832 - val_loss: 0.6354 - val_accuracy: 0.8286\n",
            "Epoch 46/100\n",
            "58/58 [==============================] - 26s 445ms/step - loss: 0.0277 - accuracy: 0.9914 - val_loss: 0.8023 - val_accuracy: 0.8438\n",
            "Epoch 47/100\n",
            "58/58 [==============================] - 26s 449ms/step - loss: 0.1868 - accuracy: 0.9551 - val_loss: 133645.5312 - val_accuracy: 0.3037\n",
            "Epoch 48/100\n",
            "58/58 [==============================] - 26s 450ms/step - loss: 0.2414 - accuracy: 0.9276 - val_loss: 2.2763 - val_accuracy: 0.7223\n",
            "Epoch 49/100\n",
            "58/58 [==============================] - 26s 446ms/step - loss: 0.0676 - accuracy: 0.9746 - val_loss: 0.6858 - val_accuracy: 0.8243\n",
            "Epoch 50/100\n",
            "58/58 [==============================] - 27s 458ms/step - loss: 0.1721 - accuracy: 0.9654 - val_loss: 21.1595 - val_accuracy: 0.5597\n",
            "Epoch 51/100\n",
            "58/58 [==============================] - 26s 449ms/step - loss: 0.3870 - accuracy: 0.8870 - val_loss: 1.3772 - val_accuracy: 0.5358\n",
            "Epoch 52/100\n",
            "58/58 [==============================] - 26s 453ms/step - loss: 0.1090 - accuracy: 0.9638 - val_loss: 0.4953 - val_accuracy: 0.8503\n",
            "Epoch 53/100\n",
            "58/58 [==============================] - 26s 444ms/step - loss: 0.0643 - accuracy: 0.9784 - val_loss: 0.6778 - val_accuracy: 0.8221\n",
            "Epoch 54/100\n",
            "58/58 [==============================] - 26s 442ms/step - loss: 0.0829 - accuracy: 0.9757 - val_loss: 0.6560 - val_accuracy: 0.7809\n",
            "Epoch 55/100\n",
            "58/58 [==============================] - 26s 440ms/step - loss: 0.0534 - accuracy: 0.9827 - val_loss: 0.5259 - val_accuracy: 0.8633\n",
            "Epoch 56/100\n",
            "58/58 [==============================] - 26s 449ms/step - loss: 0.0444 - accuracy: 0.9854 - val_loss: 0.4372 - val_accuracy: 0.8872\n",
            "Epoch 57/100\n",
            "58/58 [==============================] - 26s 441ms/step - loss: 0.0332 - accuracy: 0.9881 - val_loss: 1.0803 - val_accuracy: 0.7375\n",
            "Epoch 58/100\n",
            "58/58 [==============================] - 26s 446ms/step - loss: 0.0368 - accuracy: 0.9903 - val_loss: 0.5739 - val_accuracy: 0.8894\n",
            "Epoch 59/100\n",
            "58/58 [==============================] - 29s 495ms/step - loss: 0.0190 - accuracy: 0.9924 - val_loss: 0.6912 - val_accuracy: 0.8265\n",
            "Epoch 60/100\n",
            "58/58 [==============================] - 26s 451ms/step - loss: 0.0086 - accuracy: 0.9973 - val_loss: 0.5331 - val_accuracy: 0.8785\n",
            "Epoch 61/100\n",
            "58/58 [==============================] - 26s 441ms/step - loss: 0.0224 - accuracy: 0.9924 - val_loss: 0.9199 - val_accuracy: 0.8547\n",
            "Epoch 62/100\n",
            "58/58 [==============================] - 26s 446ms/step - loss: 0.0303 - accuracy: 0.9892 - val_loss: 0.6530 - val_accuracy: 0.8373\n",
            "Epoch 63/100\n",
            "58/58 [==============================] - 26s 447ms/step - loss: 0.0199 - accuracy: 0.9962 - val_loss: 0.6368 - val_accuracy: 0.8655\n",
            "Epoch 64/100\n",
            "58/58 [==============================] - 26s 442ms/step - loss: 0.0138 - accuracy: 0.9957 - val_loss: 0.7357 - val_accuracy: 0.8460\n",
            "Epoch 65/100\n",
            "58/58 [==============================] - 26s 439ms/step - loss: 0.0132 - accuracy: 0.9984 - val_loss: 0.4711 - val_accuracy: 0.8785\n",
            "Epoch 66/100\n",
            "58/58 [==============================] - 26s 445ms/step - loss: 0.0086 - accuracy: 0.9968 - val_loss: 0.4442 - val_accuracy: 0.8937\n",
            "Epoch 67/100\n",
            "58/58 [==============================] - 26s 451ms/step - loss: 0.0064 - accuracy: 0.9984 - val_loss: 0.4419 - val_accuracy: 0.9024\n",
            "Epoch 68/100\n",
            "58/58 [==============================] - 26s 452ms/step - loss: 0.0138 - accuracy: 0.9935 - val_loss: 0.5907 - val_accuracy: 0.8720\n",
            "Epoch 69/100\n",
            "58/58 [==============================] - 26s 445ms/step - loss: 0.0490 - accuracy: 0.9838 - val_loss: 0.7166 - val_accuracy: 0.8351\n",
            "Epoch 70/100\n",
            "58/58 [==============================] - 26s 446ms/step - loss: 0.0201 - accuracy: 0.9914 - val_loss: 0.5588 - val_accuracy: 0.8698\n",
            "Epoch 71/100\n",
            "58/58 [==============================] - 26s 443ms/step - loss: 0.0189 - accuracy: 0.9941 - val_loss: 0.5129 - val_accuracy: 0.8915\n",
            "Epoch 72/100\n",
            "58/58 [==============================] - 26s 443ms/step - loss: 0.0148 - accuracy: 0.9935 - val_loss: 0.5556 - val_accuracy: 0.8503\n",
            "Epoch 73/100\n",
            "58/58 [==============================] - 26s 445ms/step - loss: 0.0150 - accuracy: 0.9951 - val_loss: 0.4604 - val_accuracy: 0.8764\n",
            "Epoch 74/100\n",
            "58/58 [==============================] - 26s 444ms/step - loss: 0.0203 - accuracy: 0.9951 - val_loss: 0.6973 - val_accuracy: 0.8525\n",
            "Epoch 75/100\n",
            "58/58 [==============================] - 26s 443ms/step - loss: 0.0224 - accuracy: 0.9924 - val_loss: 0.7083 - val_accuracy: 0.8633\n",
            "Epoch 76/100\n",
            "58/58 [==============================] - 29s 491ms/step - loss: 0.0160 - accuracy: 0.9946 - val_loss: 0.7257 - val_accuracy: 0.8547\n",
            "Epoch 77/100\n",
            "58/58 [==============================] - 28s 488ms/step - loss: 0.0136 - accuracy: 0.9946 - val_loss: 0.8926 - val_accuracy: 0.8134\n",
            "Epoch 78/100\n",
            "58/58 [==============================] - 26s 443ms/step - loss: 0.0168 - accuracy: 0.9946 - val_loss: 0.7625 - val_accuracy: 0.8460\n",
            "Epoch 79/100\n",
            "58/58 [==============================] - 26s 446ms/step - loss: 0.0653 - accuracy: 0.9773 - val_loss: 0.6389 - val_accuracy: 0.8460\n",
            "Epoch 80/100\n",
            "58/58 [==============================] - 26s 446ms/step - loss: 0.0324 - accuracy: 0.9892 - val_loss: 0.5403 - val_accuracy: 0.8568\n",
            "Epoch 81/100\n",
            "58/58 [==============================] - 26s 447ms/step - loss: 0.0356 - accuracy: 0.9892 - val_loss: 0.6396 - val_accuracy: 0.8351\n",
            "Epoch 82/100\n",
            "58/58 [==============================] - 26s 440ms/step - loss: 0.0183 - accuracy: 0.9930 - val_loss: 0.7181 - val_accuracy: 0.8330\n",
            "Epoch 83/100\n",
            "58/58 [==============================] - 26s 444ms/step - loss: 0.0158 - accuracy: 0.9930 - val_loss: 0.6362 - val_accuracy: 0.8633\n",
            "Epoch 84/100\n",
            "58/58 [==============================] - 26s 444ms/step - loss: 0.0265 - accuracy: 0.9903 - val_loss: 1.2215 - val_accuracy: 0.7701\n",
            "Epoch 85/100\n",
            "58/58 [==============================] - 26s 446ms/step - loss: 0.0190 - accuracy: 0.9951 - val_loss: 0.4757 - val_accuracy: 0.8785\n",
            "Epoch 86/100\n",
            "58/58 [==============================] - 26s 445ms/step - loss: 0.0250 - accuracy: 0.9941 - val_loss: 0.4703 - val_accuracy: 0.8829\n",
            "Epoch 87/100\n",
            "58/58 [==============================] - 26s 441ms/step - loss: 0.0107 - accuracy: 0.9978 - val_loss: 0.8607 - val_accuracy: 0.8395\n",
            "Epoch 88/100\n",
            "58/58 [==============================] - 26s 441ms/step - loss: 0.0155 - accuracy: 0.9946 - val_loss: 1.1848 - val_accuracy: 0.8178\n",
            "Epoch 89/100\n",
            "58/58 [==============================] - 26s 447ms/step - loss: 0.0272 - accuracy: 0.9908 - val_loss: 0.7281 - val_accuracy: 0.8265\n",
            "Epoch 90/100\n",
            "58/58 [==============================] - 26s 441ms/step - loss: 0.0592 - accuracy: 0.9800 - val_loss: 2.0849 - val_accuracy: 0.5705\n",
            "Epoch 91/100\n",
            "58/58 [==============================] - 26s 446ms/step - loss: 0.1559 - accuracy: 0.9476 - val_loss: 1.3833 - val_accuracy: 0.7375\n",
            "Epoch 92/100\n",
            "58/58 [==============================] - 26s 443ms/step - loss: 0.0688 - accuracy: 0.9832 - val_loss: 1.7063 - val_accuracy: 0.7505\n",
            "Epoch 93/100\n",
            "58/58 [==============================] - 26s 443ms/step - loss: 0.0238 - accuracy: 0.9946 - val_loss: 0.6229 - val_accuracy: 0.8286\n",
            "Epoch 94/100\n",
            "58/58 [==============================] - 29s 491ms/step - loss: 0.0118 - accuracy: 0.9962 - val_loss: 0.6041 - val_accuracy: 0.8850\n",
            "Epoch 95/100\n",
            "58/58 [==============================] - 26s 444ms/step - loss: 0.0865 - accuracy: 0.9789 - val_loss: 1.0510 - val_accuracy: 0.7245\n",
            "Epoch 96/100\n",
            "58/58 [==============================] - 26s 448ms/step - loss: 0.0367 - accuracy: 0.9897 - val_loss: 0.5683 - val_accuracy: 0.8308\n",
            "Epoch 97/100\n",
            "58/58 [==============================] - 28s 487ms/step - loss: 0.0188 - accuracy: 0.9962 - val_loss: 0.6650 - val_accuracy: 0.8373\n",
            "Epoch 98/100\n",
            "58/58 [==============================] - 26s 450ms/step - loss: 0.0156 - accuracy: 0.9968 - val_loss: 0.5344 - val_accuracy: 0.8633\n",
            "Epoch 99/100\n",
            "58/58 [==============================] - 26s 442ms/step - loss: 0.0061 - accuracy: 0.9978 - val_loss: 0.5925 - val_accuracy: 0.8829\n",
            "Epoch 100/100\n",
            "58/58 [==============================] - 26s 449ms/step - loss: 0.0075 - accuracy: 0.9984 - val_loss: 0.6647 - val_accuracy: 0.8655\n"
          ]
        },
        {
          "output_type": "execute_result",
          "data": {
            "text/plain": [
              "<keras.callbacks.History at 0x7a5f7d60bfa0>"
            ]
          },
          "metadata": {},
          "execution_count": 7
        }
      ]
    },
    {
      "cell_type": "code",
      "source": [
        "\n",
        "# Convert the pruned model to a standard Keras model\n",
        "final_model = tfmot.sparsity.keras.strip_pruning(pruned_model)\n",
        "\n",
        "# Compile the final model\n",
        "final_model.compile(optimizer=Adam(), loss='categorical_crossentropy', metrics=['accuracy'])\n",
        "\n",
        "# Evaluate the final model\n",
        "test_loss, test_acc = final_model.evaluate(val_generator)\n",
        "print(\"Test accuracy:\", test_acc)"
      ],
      "metadata": {
        "id": "gvCuzIlNF8Do",
        "colab": {
          "base_uri": "https://localhost:8080/"
        },
        "outputId": "90e99201-03a6-4816-d6d6-5a0a5cc69f02"
      },
      "execution_count": 8,
      "outputs": [
        {
          "output_type": "stream",
          "name": "stdout",
          "text": [
            "15/15 [==============================] - 4s 140ms/step - loss: 0.6647 - accuracy: 0.8655\n",
            "Test accuracy: 0.8655097484588623\n"
          ]
        }
      ]
    }
  ]
}